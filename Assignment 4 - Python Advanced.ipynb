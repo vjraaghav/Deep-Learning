{
 "cells": [
  {
   "cell_type": "markdown",
   "metadata": {},
   "source": [
    "# Assignment 4 Questions"
   ]
  },
  {
   "cell_type": "markdown",
   "metadata": {},
   "source": [
    "## Problem Statement"
   ]
  },
  {
   "cell_type": "markdown",
   "metadata": {},
   "source": [
    "Q.1 Given a sequence of n values x1, x2, ..., xn and a window size k>0, the k-th moving average of\n",
    "the given sequence is defined as follows:\n",
    "\n",
    "The moving average sequence has n-k+1 elements as shown below.\n",
    "The moving averages with k=4 of a ten-value sequence (n=10) is shown below\n",
    "\n",
    "    i 1 2 3 4 5 6 7 8 9 10\n",
    "    ===== == == == == == == == == == ==\n",
    "    Input 10 20 30 40 50 60 70 80 90 100\n",
    "    y1 25 = (10+20+30+40)/4\n",
    "    y2 35 = (20+30+40+50)/4\n",
    "    y3 45 = (30+40+50+60)/4\n",
    "    y4 55 = (40+50+60+70)/4\n",
    "    y5 65 = (50+60+70+80)/4\n",
    "    y6 75 = (60+70+80+90)/4\n",
    "    y7 85 = (70+80+90+100)/4\n",
    "\n",
    "Thus, the moving average sequence has n-k+1=10-4+1=7 values.\n",
    "\n",
    "Write a function to find moving average in an array over a window:\n",
    "\n",
    "Test it over [3, 5, 7, 2, 8, 10, 11, 65, 72, 81, 99, 100, 150] and window of 3."
   ]
  },
  {
   "cell_type": "code",
   "execution_count": 1,
   "metadata": {},
   "outputs": [
    {
     "name": "stdout",
     "output_type": "stream",
     "text": [
      "[  5.           4.66666667   5.66666667   6.66666667   9.66666667\n",
      "  28.66666667  49.33333333  72.66666667  84.          93.33333333\n",
      " 116.33333333]\n"
     ]
    }
   ],
   "source": [
    "import numpy as np\n",
    "def moving_average(a, n=3) :\n",
    "    ret = np.cumsum(a, dtype=float)\n",
    "    ret[n:] = ret[n:] - ret[:-n]\n",
    "    return ret[n - 1:] / n\n",
    "a = [3, 5, 7, 2, 8, 10, 11, 65, 72, 81, 99, 100, 150]\n",
    "print(moving_average(a, n=3))"
   ]
  },
  {
   "cell_type": "markdown",
   "metadata": {},
   "source": [
    "Q.2 How-to-count-distance-to-the-previous-zero\n",
    "For each value, count the difference back to the previous zero (or the start of the Series,\n",
    "whichever is closer)\n",
    "create a new column 'Y'\n",
    "Consider a DataFrame df where there is an integer column 'X'\n",
    "    \n",
    "    import pandas as pd\n",
    "    df = pd.DataFrame({'X': [7, 2, 0, 3, 4, 2, 5, 0, 3, 4]})"
   ]
  },
  {
   "cell_type": "code",
   "execution_count": 4,
   "metadata": {},
   "outputs": [
    {
     "name": "stdout",
     "output_type": "stream",
     "text": [
      "   X  Y\n",
      "0  7  1\n",
      "1  2  2\n",
      "2  0  0\n",
      "3  3  1\n",
      "4  4  2\n",
      "5  2  3\n",
      "6  5  4\n",
      "7  0  0\n",
      "8  3  1\n",
      "9  4  2\n"
     ]
    }
   ],
   "source": [
    "import pandas as pd\n",
    "df = pd.DataFrame({'X': [7, 2, 0, 3, 4, 2, 5, 0, 3, 4]})\n",
    "df['Y'] = df.groupby((df['X'] == 0).cumsum()).cumcount()\n",
    "# We're off by one before we reach the first zero.\n",
    "first_zero_idx = (df['X'] == 0).idxmax()\n",
    "df['Y'].iloc[0:first_zero_idx] += 1\n",
    "print(df)"
   ]
  },
  {
   "cell_type": "markdown",
   "metadata": {},
   "source": [
    "Q.3 Create a DatetimeIndex that contains each business day of 2015 and use it to index a Series of\n",
    "random numbers."
   ]
  },
  {
   "cell_type": "code",
   "execution_count": 6,
   "metadata": {},
   "outputs": [
    {
     "name": "stdout",
     "output_type": "stream",
     "text": [
      "2015-01-01    0.355132\n",
      "2015-01-02    0.796429\n",
      "2015-01-05    0.282142\n",
      "2015-01-06    0.061922\n",
      "2015-01-07    0.221012\n",
      "2015-01-08    0.995038\n",
      "2015-01-09    0.492142\n",
      "2015-01-12    0.471053\n",
      "2015-01-13    0.592128\n",
      "2015-01-14    0.183009\n",
      "2015-01-15    0.670614\n",
      "2015-01-16    0.429573\n",
      "2015-01-19    0.318296\n",
      "2015-01-20    0.836200\n",
      "2015-01-21    0.544067\n",
      "2015-01-22    0.037899\n",
      "2015-01-23    0.544962\n",
      "2015-01-26    0.831734\n",
      "2015-01-27    0.458601\n",
      "2015-01-28    0.720477\n",
      "2015-01-29    0.382266\n",
      "2015-01-30    0.518320\n",
      "2015-02-02    0.139471\n",
      "2015-02-03    0.258686\n",
      "2015-02-04    0.304503\n",
      "2015-02-05    0.159986\n",
      "2015-02-06    0.611292\n",
      "2015-02-09    0.236481\n",
      "2015-02-10    0.642581\n",
      "2015-02-11    0.976502\n",
      "                ...   \n",
      "2015-11-20    0.667644\n",
      "2015-11-23    0.836945\n",
      "2015-11-24    0.459472\n",
      "2015-11-25    0.558615\n",
      "2015-11-26    0.205924\n",
      "2015-11-27    0.337725\n",
      "2015-11-30    0.500033\n",
      "2015-12-01    0.807891\n",
      "2015-12-02    0.318644\n",
      "2015-12-03    0.984793\n",
      "2015-12-04    0.462453\n",
      "2015-12-07    0.790015\n",
      "2015-12-08    0.938029\n",
      "2015-12-09    0.989137\n",
      "2015-12-10    0.689681\n",
      "2015-12-11    0.351544\n",
      "2015-12-14    0.713652\n",
      "2015-12-15    0.045373\n",
      "2015-12-16    0.625278\n",
      "2015-12-17    0.997109\n",
      "2015-12-18    0.611524\n",
      "2015-12-21    0.018154\n",
      "2015-12-22    0.260440\n",
      "2015-12-23    0.592541\n",
      "2015-12-24    0.988256\n",
      "2015-12-25    0.394149\n",
      "2015-12-28    0.749082\n",
      "2015-12-29    0.787157\n",
      "2015-12-30    0.880195\n",
      "2015-12-31    0.599960\n",
      "Freq: B, Length: 261, dtype: float64\n"
     ]
    }
   ],
   "source": [
    "dti = pd.date_range(start='2015-01-01', end='2015-12-31', freq='B') \n",
    "s = pd.Series(np.random.rand(len(dti)), index=dti)\n",
    "print (s)"
   ]
  },
  {
   "cell_type": "markdown",
   "metadata": {},
   "source": [
    "Q.4 "
   ]
  }
 ],
 "metadata": {
  "kernelspec": {
   "display_name": "Python 3",
   "language": "python",
   "name": "python3"
  },
  "language_info": {
   "codemirror_mode": {
    "name": "ipython",
    "version": 3
   },
   "file_extension": ".py",
   "mimetype": "text/x-python",
   "name": "python",
   "nbconvert_exporter": "python",
   "pygments_lexer": "ipython3",
   "version": "3.6.4"
  }
 },
 "nbformat": 4,
 "nbformat_minor": 2
}
